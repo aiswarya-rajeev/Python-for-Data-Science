{
 "cells": [
  {
   "cell_type": "markdown",
   "metadata": {},
   "source": [
    "# Data structures program"
   ]
  },
  {
   "cell_type": "code",
   "execution_count": null,
   "metadata": {},
   "outputs": [],
   "source": [
    "\"\"\" Let say you are teacher and you have different student records \n",
    "containing ID of a student and the marks list in each subject where\n",
    "different students have taken different number of subjects. \n",
    "All these records are in hard copy. You want to enter all data in\n",
    "computer and to compute the average marks of each student and display\"\"\""
   ]
  },
  {
   "cell_type": "code",
   "execution_count": 2,
   "metadata": {},
   "outputs": [],
   "source": [
    "def getDataFromUser():\n",
    "    D = {}\n",
    "    while True:\n",
    "        studentId = input(\"Enter student ID: \")\n",
    "        marksList = input(\"Enter the marks by comma separated values: \")\n",
    "        moreStudents = input('Enter \"no\" to quit insertion')\n",
    "        if studentId in D:\n",
    "            print(studentId, \"is already inserted: \")\n",
    "        else:\n",
    "            D[studentId] = marksList.split(\",\")\n",
    "        if moreStudents.lower() == \"no\":\n",
    "            return D     \n",
    "        "
   ]
  },
  {
   "cell_type": "code",
   "execution_count": 3,
   "metadata": {},
   "outputs": [
    {
     "name": "stdout",
     "output_type": "stream",
     "text": [
      "Enter student ID: 12\n",
      "Enter the marks by comma separated values: 34,88,67\n",
      "Enter \"no\" to quit insertiontyg\n",
      "Enter student ID: 44\n",
      "Enter the marks by comma separated values: 67,89,34,78,67\n",
      "Enter \"no\" to quit insertiondfg\n",
      "Enter student ID: 12\n",
      "Enter the marks by comma separated values: 23,44,78,45,90\n",
      "Enter \"no\" to quit insertion33\n",
      "12 is already inserted: \n",
      "Enter student ID: 34\n",
      "Enter the marks by comma separated values: 67,89,66,34,23,22\n",
      "Enter \"no\" to quit insertionno\n"
     ]
    }
   ],
   "source": [
    "studentData = getDataFromUser()"
   ]
  },
  {
   "cell_type": "code",
   "execution_count": 4,
   "metadata": {},
   "outputs": [
    {
     "data": {
      "text/plain": [
       "{'12': ['34', '88', '67'],\n",
       " '44': ['67', '89', '34', '78', '67'],\n",
       " '34': ['67', '89', '66', '34', '23', '22']}"
      ]
     },
     "execution_count": 4,
     "metadata": {},
     "output_type": "execute_result"
    }
   ],
   "source": [
    "studentData"
   ]
  },
  {
   "cell_type": "code",
   "execution_count": 10,
   "metadata": {},
   "outputs": [],
   "source": [
    "def getAvgMarks(D):\n",
    "    avgMarks = {}\n",
    "    for x in D:\n",
    "        L = D[x]\n",
    "        s = 0\n",
    "        for marks in L:\n",
    "            s += int(marks)\n",
    "        avgMarks[x] = s/len(L)\n",
    "    return avgMarks"
   ]
  },
  {
   "cell_type": "code",
   "execution_count": 11,
   "metadata": {},
   "outputs": [],
   "source": [
    "avgM = getAvgMarks(studentData)"
   ]
  },
  {
   "cell_type": "code",
   "execution_count": 13,
   "metadata": {},
   "outputs": [
    {
     "name": "stdout",
     "output_type": "stream",
     "text": [
      "Student :  12 got avg Marks as:  63.0\n",
      "Student :  44 got avg Marks as:  67.0\n",
      "Student :  34 got avg Marks as:  50.166666666666664\n"
     ]
    }
   ],
   "source": [
    "for x in avgM:\n",
    "    print(\"Student : \",x,\"got avg Marks as: \",avgM[x])"
   ]
  }
 ],
 "metadata": {
  "kernelspec": {
   "display_name": "Python 3",
   "language": "python",
   "name": "python3"
  },
  "language_info": {
   "codemirror_mode": {
    "name": "ipython",
    "version": 3
   },
   "file_extension": ".py",
   "mimetype": "text/x-python",
   "name": "python",
   "nbconvert_exporter": "python",
   "pygments_lexer": "ipython3",
   "version": "3.7.4"
  }
 },
 "nbformat": 4,
 "nbformat_minor": 2
}

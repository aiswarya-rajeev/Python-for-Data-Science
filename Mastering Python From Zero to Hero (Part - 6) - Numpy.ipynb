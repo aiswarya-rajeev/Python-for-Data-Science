{
 "cells": [
  {
   "cell_type": "markdown",
   "metadata": {},
   "source": [
    "# Numpy"
   ]
  },
  {
   "cell_type": "markdown",
   "metadata": {},
   "source": [
    "# Why Numpy?\n",
    "\n",
    "Quick answer: Numpy is faster"
   ]
  },
  {
   "cell_type": "code",
   "execution_count": 1,
   "metadata": {},
   "outputs": [
    {
     "name": "stdout",
     "output_type": "stream",
     "text": [
      "[1 2 3 4 5]\n",
      "[1 6 3 4 9]\n"
     ]
    }
   ],
   "source": [
    "import numpy as np\n",
    "a = np.array([1,2,3,4,5])\n",
    "b = np.array([1,6,3,4,9])\n",
    "print(a)\n",
    "print(b)"
   ]
  },
  {
   "cell_type": "code",
   "execution_count": 2,
   "metadata": {},
   "outputs": [],
   "source": [
    "import numpy as np"
   ]
  },
  {
   "cell_type": "code",
   "execution_count": 3,
   "metadata": {},
   "outputs": [],
   "source": [
    "c = np.array([1,2,3,5,7])"
   ]
  },
  {
   "cell_type": "code",
   "execution_count": 4,
   "metadata": {},
   "outputs": [],
   "source": [
    "d = np.array((2,3,5)) #tuple array"
   ]
  },
  {
   "cell_type": "code",
   "execution_count": 5,
   "metadata": {},
   "outputs": [
    {
     "name": "stdout",
     "output_type": "stream",
     "text": [
      "[1 2 3 5 7]\n"
     ]
    }
   ],
   "source": [
    "print(c)"
   ]
  },
  {
   "cell_type": "code",
   "execution_count": 6,
   "metadata": {},
   "outputs": [
    {
     "data": {
      "text/plain": [
       "numpy.ndarray"
      ]
     },
     "execution_count": 6,
     "metadata": {},
     "output_type": "execute_result"
    }
   ],
   "source": [
    "type(c)"
   ]
  },
  {
   "cell_type": "code",
   "execution_count": 7,
   "metadata": {},
   "outputs": [
    {
     "data": {
      "text/plain": [
       "numpy.ndarray"
      ]
     },
     "execution_count": 7,
     "metadata": {},
     "output_type": "execute_result"
    }
   ],
   "source": [
    "type(d)"
   ]
  },
  {
   "cell_type": "code",
   "execution_count": 8,
   "metadata": {},
   "outputs": [
    {
     "data": {
      "text/plain": [
       "dtype('int32')"
      ]
     },
     "execution_count": 8,
     "metadata": {},
     "output_type": "execute_result"
    }
   ],
   "source": [
    "c.dtype"
   ]
  },
  {
   "cell_type": "code",
   "execution_count": 9,
   "metadata": {},
   "outputs": [],
   "source": [
    "#We can specify dtype along with a as\n",
    "c = np.array([1,2,3,5,7],dtype=\"i\") #This become interger"
   ]
  },
  {
   "cell_type": "code",
   "execution_count": 10,
   "metadata": {},
   "outputs": [],
   "source": [
    "d = np.array([2,3,5],dtype=\"f\") #This become float"
   ]
  },
  {
   "cell_type": "code",
   "execution_count": 11,
   "metadata": {},
   "outputs": [],
   "source": [
    "import numpy as np\n",
    "a = np.array([[1,2,3],[4,5,6]])"
   ]
  },
  {
   "cell_type": "code",
   "execution_count": 12,
   "metadata": {},
   "outputs": [
    {
     "data": {
      "text/plain": [
       "2"
      ]
     },
     "execution_count": 12,
     "metadata": {},
     "output_type": "execute_result"
    }
   ],
   "source": [
    "a.ndim  #dimension of the array"
   ]
  },
  {
   "cell_type": "code",
   "execution_count": 13,
   "metadata": {},
   "outputs": [
    {
     "data": {
      "text/plain": [
       "3"
      ]
     },
     "execution_count": 13,
     "metadata": {},
     "output_type": "execute_result"
    }
   ],
   "source": [
    "a[0,2] #first array, element number 2"
   ]
  },
  {
   "cell_type": "markdown",
   "metadata": {},
   "source": [
    "The number of elements in the arrays of multidimensional array shoud be same"
   ]
  },
  {
   "cell_type": "code",
   "execution_count": 25,
   "metadata": {},
   "outputs": [],
   "source": [
    "Z = np.array([[1,2,3,-1],[2,4,5,9]])"
   ]
  },
  {
   "cell_type": "code",
   "execution_count": 26,
   "metadata": {},
   "outputs": [
    {
     "data": {
      "text/plain": [
       "2"
      ]
     },
     "execution_count": 26,
     "metadata": {},
     "output_type": "execute_result"
    }
   ],
   "source": [
    "Z.ndim"
   ]
  },
  {
   "cell_type": "code",
   "execution_count": 16,
   "metadata": {},
   "outputs": [],
   "source": [
    "#an array of a two-dimensional array is called three dimensional array\n",
    "C = np.array([[[1,2,3],[4,5,6],[0,0,-1]],[[-1,-2,-3],[-4,-5,-6],[0,0,1]]] )"
   ]
  },
  {
   "cell_type": "code",
   "execution_count": 18,
   "metadata": {},
   "outputs": [
    {
     "data": {
      "text/plain": [
       "3"
      ]
     },
     "execution_count": 18,
     "metadata": {},
     "output_type": "execute_result"
    }
   ],
   "source": [
    "C.ndim"
   ]
  },
  {
   "cell_type": "code",
   "execution_count": 23,
   "metadata": {},
   "outputs": [
    {
     "data": {
      "text/plain": [
       "-3"
      ]
     },
     "execution_count": 23,
     "metadata": {},
     "output_type": "execute_result"
    }
   ],
   "source": [
    "C[1,0,2]"
   ]
  },
  {
   "cell_type": "code",
   "execution_count": 24,
   "metadata": {},
   "outputs": [
    {
     "data": {
      "text/plain": [
       "numpy.ndarray"
      ]
     },
     "execution_count": 24,
     "metadata": {},
     "output_type": "execute_result"
    }
   ],
   "source": [
    "type(C)"
   ]
  },
  {
   "cell_type": "code",
   "execution_count": 27,
   "metadata": {},
   "outputs": [
    {
     "data": {
      "text/plain": [
       "array([[[ 1,  2,  3],\n",
       "        [ 4,  5,  6],\n",
       "        [ 0,  0, -1]],\n",
       "\n",
       "       [[-1, -2, -3],\n",
       "        [-4, -5, -6],\n",
       "        [ 0,  0,  1]]])"
      ]
     },
     "execution_count": 27,
     "metadata": {},
     "output_type": "execute_result"
    }
   ],
   "source": [
    "C"
   ]
  },
  {
   "cell_type": "code",
   "execution_count": 28,
   "metadata": {},
   "outputs": [
    {
     "data": {
      "text/plain": [
       "(2, 3, 3)"
      ]
     },
     "execution_count": 28,
     "metadata": {},
     "output_type": "execute_result"
    }
   ],
   "source": [
    "C.shape"
   ]
  },
  {
   "cell_type": "code",
   "execution_count": 29,
   "metadata": {},
   "outputs": [
    {
     "data": {
      "text/plain": [
       "2"
      ]
     },
     "execution_count": 29,
     "metadata": {},
     "output_type": "execute_result"
    }
   ],
   "source": [
    "C.shape[0] #Total number of two dimensional arrays"
   ]
  },
  {
   "cell_type": "code",
   "execution_count": 30,
   "metadata": {},
   "outputs": [
    {
     "data": {
      "text/plain": [
       "3"
      ]
     },
     "execution_count": 30,
     "metadata": {},
     "output_type": "execute_result"
    }
   ],
   "source": [
    "C.shape[1] #In each 2D array, how many 1D arrays are there"
   ]
  },
  {
   "cell_type": "code",
   "execution_count": 31,
   "metadata": {},
   "outputs": [
    {
     "data": {
      "text/plain": [
       "3"
      ]
     },
     "execution_count": 31,
     "metadata": {},
     "output_type": "execute_result"
    }
   ],
   "source": [
    "C.shape[2] #In each 1D array, how many elements are there"
   ]
  },
  {
   "cell_type": "code",
   "execution_count": 32,
   "metadata": {},
   "outputs": [],
   "source": [
    "A = np.array([2]) #Numpy array with single element in list"
   ]
  },
  {
   "cell_type": "code",
   "execution_count": 33,
   "metadata": {},
   "outputs": [
    {
     "data": {
      "text/plain": [
       "1"
      ]
     },
     "execution_count": 33,
     "metadata": {},
     "output_type": "execute_result"
    }
   ],
   "source": [
    "A.ndim"
   ]
  },
  {
   "cell_type": "code",
   "execution_count": 34,
   "metadata": {},
   "outputs": [],
   "source": [
    "B = np.array(3) #Just passing an element. So there will be changes in the \n",
    "#dimensions in both case"
   ]
  },
  {
   "cell_type": "code",
   "execution_count": 35,
   "metadata": {},
   "outputs": [
    {
     "data": {
      "text/plain": [
       "0"
      ]
     },
     "execution_count": 35,
     "metadata": {},
     "output_type": "execute_result"
    }
   ],
   "source": [
    "B.ndim"
   ]
  },
  {
   "cell_type": "code",
   "execution_count": 38,
   "metadata": {},
   "outputs": [
    {
     "data": {
      "text/plain": [
       "18"
      ]
     },
     "execution_count": 38,
     "metadata": {},
     "output_type": "execute_result"
    }
   ],
   "source": [
    "C.size #complete total number of elements"
   ]
  },
  {
   "cell_type": "code",
   "execution_count": 39,
   "metadata": {},
   "outputs": [
    {
     "data": {
      "text/plain": [
       "72"
      ]
     },
     "execution_count": 39,
     "metadata": {},
     "output_type": "execute_result"
    }
   ],
   "source": [
    "C.nbytes #Total number of bytes"
   ]
  },
  {
   "cell_type": "markdown",
   "metadata": {},
   "source": [
    "# np.arange,reshape,random"
   ]
  },
  {
   "cell_type": "code",
   "execution_count": 40,
   "metadata": {},
   "outputs": [],
   "source": [
    "A = np.arange(100) #Creates an array which starts from 0 upto 99"
   ]
  },
  {
   "cell_type": "code",
   "execution_count": 42,
   "metadata": {},
   "outputs": [
    {
     "name": "stdout",
     "output_type": "stream",
     "text": [
      "[ 0  1  2  3  4  5  6  7  8  9 10 11 12 13 14 15 16 17 18 19 20 21 22 23\n",
      " 24 25 26 27 28 29 30 31 32 33 34 35 36 37 38 39 40 41 42 43 44 45 46 47\n",
      " 48 49 50 51 52 53 54 55 56 57 58 59 60 61 62 63 64 65 66 67 68 69 70 71\n",
      " 72 73 74 75 76 77 78 79 80 81 82 83 84 85 86 87 88 89 90 91 92 93 94 95\n",
      " 96 97 98 99]\n"
     ]
    }
   ],
   "source": [
    "print(A)"
   ]
  },
  {
   "cell_type": "code",
   "execution_count": 43,
   "metadata": {},
   "outputs": [
    {
     "name": "stdout",
     "output_type": "stream",
     "text": [
      "[20 21 22 23 24 25 26 27 28 29 30 31 32 33 34 35 36 37 38 39 40 41 42 43\n",
      " 44 45 46 47 48 49 50 51 52 53 54 55 56 57 58 59 60 61 62 63 64 65 66 67\n",
      " 68 69 70 71 72 73 74 75 76 77 78 79 80 81 82 83 84 85 86 87 88 89 90 91\n",
      " 92 93 94 95 96 97 98 99]\n"
     ]
    }
   ],
   "source": [
    "A = np.arange(20,100) #20 t0 99\n",
    "print(A)"
   ]
  },
  {
   "cell_type": "code",
   "execution_count": 44,
   "metadata": {},
   "outputs": [
    {
     "name": "stdout",
     "output_type": "stream",
     "text": [
      "[20 23 26 29 32 35 38 41 44 47 50 53 56 59 62 65 68 71 74 77 80 83 86 89\n",
      " 92 95 98]\n"
     ]
    }
   ],
   "source": [
    "A = np.arange(20,100,3) #20 t0 99 with a jump of 3\n",
    "print(A)"
   ]
  },
  {
   "cell_type": "code",
   "execution_count": 45,
   "metadata": {},
   "outputs": [],
   "source": [
    "#Some resemblance with this function below\n",
    "#for i in range(20,100,3)"
   ]
  },
  {
   "cell_type": "code",
   "execution_count": 46,
   "metadata": {},
   "outputs": [
    {
     "name": "stdout",
     "output_type": "stream",
     "text": [
      "range(0, 10)\n"
     ]
    }
   ],
   "source": [
    "print(range(10))"
   ]
  },
  {
   "cell_type": "code",
   "execution_count": 48,
   "metadata": {},
   "outputs": [
    {
     "name": "stdout",
     "output_type": "stream",
     "text": [
      "[0, 1, 2, 3, 4, 5, 6, 7, 8, 9]\n"
     ]
    }
   ],
   "source": [
    "print(list(range(10)))"
   ]
  },
  {
   "cell_type": "code",
   "execution_count": 51,
   "metadata": {},
   "outputs": [
    {
     "name": "stdout",
     "output_type": "stream",
     "text": [
      "[6 7 4 9 8 3 1 0 2 5]\n"
     ]
    }
   ],
   "source": [
    "A = np.random.permutation(np.arange(10)) #Returns the numbers from 0 to 9 in shuffled fashion\n",
    "print(A)                        "
   ]
  },
  {
   "cell_type": "code",
   "execution_count": 53,
   "metadata": {},
   "outputs": [],
   "source": [
    "np.random.randint?"
   ]
  },
  {
   "cell_type": "code",
   "execution_count": 55,
   "metadata": {},
   "outputs": [
    {
     "data": {
      "text/plain": [
       "26"
      ]
     },
     "execution_count": 55,
     "metadata": {},
     "output_type": "execute_result"
    }
   ],
   "source": [
    "np.random.randint(20,30) #creates random integer"
   ]
  },
  {
   "cell_type": "code",
   "execution_count": 56,
   "metadata": {},
   "outputs": [],
   "source": [
    "v = np.random.randint(20,300)"
   ]
  },
  {
   "cell_type": "code",
   "execution_count": 57,
   "metadata": {},
   "outputs": [
    {
     "data": {
      "text/plain": [
       "int"
      ]
     },
     "execution_count": 57,
     "metadata": {},
     "output_type": "execute_result"
    }
   ],
   "source": [
    "type(v)"
   ]
  },
  {
   "cell_type": "code",
   "execution_count": 60,
   "metadata": {},
   "outputs": [],
   "source": [
    "A = np.random.rand(1000)"
   ]
  },
  {
   "cell_type": "code",
   "execution_count": 59,
   "metadata": {},
   "outputs": [
    {
     "data": {
      "text/plain": [
       "array([0.60433962, 0.74637397, 0.09669112, 0.5726634 , 0.3572289 ,\n",
       "       0.11279349, 0.03316473, 0.98141848, 0.83231419, 0.11119407,\n",
       "       0.37914238, 0.02792308, 0.32486185, 0.9135038 , 0.63942137,\n",
       "       0.23102028, 0.58715702, 0.71230311, 0.35066835, 0.47407785,\n",
       "       0.96084688, 0.56865178, 0.6504806 , 0.69373528, 0.57770199,\n",
       "       0.37667128, 0.39725238, 0.33056251, 0.50424298, 0.0779567 ,\n",
       "       0.31618613, 0.37436823, 0.98170361, 0.49108435, 0.59671309,\n",
       "       0.15781337, 0.98839508, 0.29794559, 0.02924318, 0.3152148 ,\n",
       "       0.32479406, 0.11095555, 0.68580953, 0.574262  , 0.9191015 ,\n",
       "       0.35440651, 0.63635299, 0.48480314, 0.45299425, 0.07722411,\n",
       "       0.09626294, 0.55570502, 0.35534656, 0.55175356, 0.77065841,\n",
       "       0.57893337, 0.83941513, 0.84946143, 0.53864535, 0.62595432,\n",
       "       0.10115887, 0.32674489, 0.94417519, 0.67308498, 0.83606199,\n",
       "       0.99708726, 0.57377198, 0.27015218, 0.76752031, 0.14457351,\n",
       "       0.51709302, 0.99641971, 0.92110639, 0.87302547, 0.75473413,\n",
       "       0.25312531, 0.9041697 , 0.93354905, 0.56743188, 0.82427561,\n",
       "       0.28962597, 0.54840126, 0.7528285 , 0.62071947, 0.1912532 ,\n",
       "       0.74622206, 0.0836244 , 0.70720989, 0.65868232, 0.99117366,\n",
       "       0.50753181, 0.58688528, 0.9017772 , 0.11005707, 0.63272725,\n",
       "       0.05076998, 0.67686063, 0.84611659, 0.91350451, 0.70269455,\n",
       "       0.45319874, 0.90841886, 0.16405643, 0.94458839, 0.09627474,\n",
       "       0.66547345, 0.25878599, 0.797252  , 0.42950774, 0.58245729,\n",
       "       0.56273771, 0.58977775, 0.44553977, 0.31627932, 0.15864447,\n",
       "       0.11501323, 0.99323962, 0.20836772, 0.97991917, 0.6079021 ,\n",
       "       0.54113138, 0.90270552, 0.39889249, 0.97976833, 0.00829914,\n",
       "       0.71369897, 0.89145297, 0.01658303, 0.72313365, 0.70583782,\n",
       "       0.44827488, 0.47669771, 0.39092177, 0.81536247, 0.74425162,\n",
       "       0.00143379, 0.76615285, 0.71892651, 0.9789209 , 0.185815  ,\n",
       "       0.74582773, 0.15456089, 0.11994521, 0.67342383, 0.67221411,\n",
       "       0.02573101, 0.09702347, 0.88818619, 0.57060753, 0.96157927,\n",
       "       0.54086901, 0.68948138, 0.45587266, 0.55196229, 0.18734361,\n",
       "       0.93972256, 0.11032848, 0.10117677, 0.9800749 , 0.69878414,\n",
       "       0.05746963, 0.43037029, 0.92030469, 0.56652395, 0.33076235,\n",
       "       0.20755605, 0.79542575, 0.55200897, 0.75191459, 0.75453337,\n",
       "       0.85624974, 0.14380258, 0.86828475, 0.08052853, 0.65897574,\n",
       "       0.07261324, 0.32298473, 0.67084269, 0.26341567, 0.52479201,\n",
       "       0.92981499, 0.98052032, 0.71097444, 0.80309522, 0.40606793,\n",
       "       0.35706644, 0.52013258, 0.03062659, 0.00280129, 0.20868303,\n",
       "       0.36516599, 0.218843  , 0.71527584, 0.59649959, 0.85332608,\n",
       "       0.91035868, 0.29554669, 0.22778929, 0.6737109 , 0.25977446,\n",
       "       0.4390812 , 0.92813021, 0.00474504, 0.47646759, 0.91152946,\n",
       "       0.86843116, 0.07473484, 0.22764396, 0.97073852, 0.16406927,\n",
       "       0.91644974, 0.54692349, 0.35344983, 0.91434181, 0.22639386,\n",
       "       0.53105339, 0.9040566 , 0.4091324 , 0.70361813, 0.25602837,\n",
       "       0.25942486, 0.95820164, 0.30063797, 0.33900428, 0.18986162,\n",
       "       0.69838838, 0.39160953, 0.26134023, 0.82926969, 0.24463127,\n",
       "       0.47456375, 0.03778483, 0.88128388, 0.1926088 , 0.79629775,\n",
       "       0.36382284, 0.08010816, 0.75157745, 0.11606637, 0.28933381,\n",
       "       0.82152083, 0.08510899, 0.33104992, 0.07360649, 0.45910263,\n",
       "       0.65204675, 0.10089496, 0.00118379, 0.91823472, 0.28593826,\n",
       "       0.62584198, 0.75889774, 0.41301181, 0.08147707, 0.74599129,\n",
       "       0.02628901, 0.96963827, 0.91979294, 0.34273461, 0.44390192,\n",
       "       0.28042826, 0.54334066, 0.21936475, 0.71878851, 0.03519792,\n",
       "       0.72891697, 0.33350107, 0.44856946, 0.71437289, 0.50489983,\n",
       "       0.11702806, 0.5677996 , 0.58080441, 0.10493387, 0.5399186 ,\n",
       "       0.26263873, 0.74235486, 0.01582274, 0.55754282, 0.0855494 ,\n",
       "       0.18540084, 0.27742994, 0.56187933, 0.81361537, 0.43150767,\n",
       "       0.868243  , 0.19324324, 0.17164454, 0.72405848, 0.52633875,\n",
       "       0.03696547, 0.88713758, 0.23714001, 0.65942178, 0.09731502,\n",
       "       0.64012393, 0.91171615, 0.25484589, 0.89564762, 0.69062917,\n",
       "       0.49182952, 0.43268345, 0.3566896 , 0.35928258, 0.80478126,\n",
       "       0.33804338, 0.74185701, 0.63652911, 0.08839012, 0.39694318,\n",
       "       0.03612768, 0.90169178, 0.71102793, 0.77701156, 0.78990602,\n",
       "       0.23481137, 0.23887667, 0.59359932, 0.93637853, 0.62099052,\n",
       "       0.80241201, 0.3938179 , 0.50036578, 0.9539072 , 0.54528085,\n",
       "       0.81329475, 0.0718301 , 0.44615055, 0.71736653, 0.46082236,\n",
       "       0.1802948 , 0.73696231, 0.15687602, 0.56652688, 0.23096196,\n",
       "       0.1028888 , 0.80024114, 0.2518833 , 0.44979699, 0.42912037,\n",
       "       0.07854574, 0.03869479, 0.50237231, 0.77669604, 0.26368167,\n",
       "       0.43600804, 0.41826183, 0.45069994, 0.84912816, 0.90758937,\n",
       "       0.59729516, 0.86041805, 0.28800544, 0.37137954, 0.3654531 ,\n",
       "       0.73216235, 0.85341496, 0.8664847 , 0.05287179, 0.67461727,\n",
       "       0.49640578, 0.18404819, 0.78824657, 0.28207488, 0.98054536,\n",
       "       0.78146014, 0.65047781, 0.15311667, 0.62727819, 0.9082974 ,\n",
       "       0.79652477, 0.79296725, 0.08178856, 0.43728322, 0.29084083,\n",
       "       0.74639176, 0.7213943 , 0.43329283, 0.8226584 , 0.38658522,\n",
       "       0.98136393, 0.38062012, 0.11265819, 0.38813872, 0.13650197,\n",
       "       0.67281994, 0.78580683, 0.40547477, 0.85318826, 0.95992457,\n",
       "       0.52342841, 0.17700302, 0.65465733, 0.06316468, 0.32039044,\n",
       "       0.67748013, 0.59161932, 0.02247583, 0.59864301, 0.65395285,\n",
       "       0.74507049, 0.68862658, 0.68752841, 0.60070104, 0.25407998,\n",
       "       0.28588223, 0.08041247, 0.48177416, 0.39188952, 0.83423102,\n",
       "       0.16009078, 0.77030986, 0.00609108, 0.2728923 , 0.79984416,\n",
       "       0.58590592, 0.38624384, 0.29535399, 0.90085369, 0.7682025 ,\n",
       "       0.31942701, 0.63526545, 0.55800595, 0.01999669, 0.76286681,\n",
       "       0.00189041, 0.44414972, 0.87994526, 0.11520833, 0.74579934,\n",
       "       0.10788565, 0.64021882, 0.12139069, 0.97609333, 0.901752  ,\n",
       "       0.02130409, 0.85626497, 0.23187044, 0.58047722, 0.12384778,\n",
       "       0.16786162, 0.2326646 , 0.98475014, 0.94800026, 0.76562377,\n",
       "       0.95194171, 0.52707565, 0.37881631, 0.82489326, 0.60107517,\n",
       "       0.0649848 , 0.63149951, 0.23709864, 0.64528181, 0.53519903,\n",
       "       0.40132498, 0.30033383, 0.70565497, 0.55738718, 0.98864675,\n",
       "       0.78260126, 0.61734502, 0.17788314, 0.33202493, 0.60124755,\n",
       "       0.05129852, 0.54973779, 0.77919869, 0.3350005 , 0.46577076,\n",
       "       0.55489682, 0.88176799, 0.8551723 , 0.95891963, 0.1926215 ,\n",
       "       0.40424578, 0.9562105 , 0.21421733, 0.61892541, 0.02473319,\n",
       "       0.84694139, 0.01934385, 0.31031713, 0.12686727, 0.25386131,\n",
       "       0.8272703 , 0.11649433, 0.19283728, 0.31376127, 0.0688932 ,\n",
       "       0.77547258, 0.55399443, 0.60954106, 0.3337006 , 0.21833831,\n",
       "       0.5494121 , 0.74348694, 0.89376152, 0.29892802, 0.4018371 ,\n",
       "       0.00711336, 0.80646865, 0.14775912, 0.69028891, 0.87460666,\n",
       "       0.10688331, 0.48484597, 0.08290246, 0.16510823, 0.11388216,\n",
       "       0.50134287, 0.70647144, 0.96491457, 0.0172543 , 0.45617027,\n",
       "       0.50234718, 0.11110699, 0.27437307, 0.46693838, 0.22926732,\n",
       "       0.77246129, 0.09446169, 0.17442931, 0.24639109, 0.5215607 ,\n",
       "       0.83268247, 0.72141859, 0.30965131, 0.66388008, 0.28220931,\n",
       "       0.14435972, 0.37758279, 0.67123866, 0.15981224, 0.00802046,\n",
       "       0.19506604, 0.44708532, 0.48207873, 0.32777073, 0.39799554,\n",
       "       0.9738601 , 0.1774193 , 0.57422818, 0.48696335, 0.34698114,\n",
       "       0.08171812, 0.33431431, 0.84869804, 0.55237304, 0.40219666,\n",
       "       0.22307345, 0.53292432, 0.36511496, 0.88033517, 0.96495234,\n",
       "       0.15599287, 0.12453575, 0.35036685, 0.52839801, 0.22332947,\n",
       "       0.71838303, 0.6826298 , 0.95866381, 0.89924934, 0.26965087,\n",
       "       0.87963587, 0.33078085, 0.86200789, 0.14649051, 0.57905618,\n",
       "       0.97806783, 0.55665407, 0.41376797, 0.92267932, 0.83117393,\n",
       "       0.76237401, 0.65394542, 0.78765679, 0.95729473, 0.79273033,\n",
       "       0.20895604, 0.04732883, 0.31505191, 0.94122873, 0.99211084,\n",
       "       0.31056705, 0.89574234, 0.7483103 , 0.37565958, 0.39627205,\n",
       "       0.60047622, 0.14928932, 0.34177716, 0.19965312, 0.22048928,\n",
       "       0.83923767, 0.20415677, 0.47191042, 0.18552927, 0.37810477,\n",
       "       0.76239224, 0.71370202, 0.12952631, 0.41069736, 0.15751267,\n",
       "       0.36749192, 0.87711954, 0.15476282, 0.7893132 , 0.85870256,\n",
       "       0.66130361, 0.6976666 , 0.78501788, 0.30389975, 0.94329173,\n",
       "       0.21989052, 0.52255512, 0.01047025, 0.03741983, 0.78488316,\n",
       "       0.46053369, 0.56740981, 0.04753515, 0.69380625, 0.4765653 ,\n",
       "       0.43792209, 0.98188227, 0.80851217, 0.09332121, 0.10302331,\n",
       "       0.93485808, 0.60584834, 0.60115674, 0.54091419, 0.27952411,\n",
       "       0.83669154, 0.98953576, 0.74221446, 0.84146215, 0.7304153 ,\n",
       "       0.31348952, 0.95555211, 0.01976813, 0.71135036, 0.87504404,\n",
       "       0.1387193 , 0.84921271, 0.92067034, 0.35861611, 0.87027662,\n",
       "       0.4333068 , 0.06187527, 0.38649545, 0.15623855, 0.03218597,\n",
       "       0.78434423, 0.94939876, 0.75253807, 0.4636439 , 0.57558512,\n",
       "       0.31920543, 0.47723092, 0.35455881, 0.16240589, 0.12564838,\n",
       "       0.5264117 , 0.002061  , 0.79598319, 0.26831805, 0.02571422,\n",
       "       0.54880431, 0.6722865 , 0.06882071, 0.10383897, 0.67739291,\n",
       "       0.89561977, 0.81444774, 0.88050644, 0.97105827, 0.9216643 ,\n",
       "       0.75763603, 0.5362317 , 0.56599324, 0.11584932, 0.41491423,\n",
       "       0.56632433, 0.16946433, 0.9663441 , 0.20482126, 0.41313655,\n",
       "       0.20750411, 0.90648012, 0.93403449, 0.51818231, 0.06513082,\n",
       "       0.61488048, 0.45448678, 0.64108996, 0.00532702, 0.39616545,\n",
       "       0.45528334, 0.03888645, 0.32511197, 0.66680332, 0.1970242 ,\n",
       "       0.53002833, 0.30372565, 0.23258408, 0.74797541, 0.12497546,\n",
       "       0.40194932, 0.11911812, 0.7832658 , 0.89864095, 0.26884935,\n",
       "       0.55120393, 0.36177539, 0.32120366, 0.2844532 , 0.82524955,\n",
       "       0.01147365, 0.91025799, 0.62429371, 0.42291212, 0.00534286,\n",
       "       0.66390674, 0.85538892, 0.42544405, 0.77334791, 0.79591172,\n",
       "       0.29951114, 0.43682527, 0.12193397, 0.45040499, 0.20882396,\n",
       "       0.2370719 , 0.36037164, 0.34232108, 0.24953227, 0.54658172,\n",
       "       0.15415055, 0.4446255 , 0.17057615, 0.68397546, 0.12652875,\n",
       "       0.5286145 , 0.00484918, 0.07627211, 0.94550566, 0.21638104,\n",
       "       0.96583813, 0.36192255, 0.03374044, 0.3089794 , 0.17715692,\n",
       "       0.92203266, 0.76856387, 0.88592403, 0.28897455, 0.9851262 ,\n",
       "       0.96959275, 0.72315103, 0.50046653, 0.25363252, 0.94780193,\n",
       "       0.26467478, 0.94668624, 0.81365847, 0.70829598, 0.88499267,\n",
       "       0.22645081, 0.91585783, 0.74973354, 0.8157566 , 0.58947752,\n",
       "       0.83710272, 0.20881419, 0.49956717, 0.55059881, 0.85574375,\n",
       "       0.40376586, 0.11334969, 0.69023506, 0.69952716, 0.50436717,\n",
       "       0.30731517, 0.22919012, 0.01339652, 0.01621175, 0.2366345 ,\n",
       "       0.47461001, 0.34566953, 0.48324064, 0.72747027, 0.78790381,\n",
       "       0.01712541, 0.02466585, 0.07494193, 0.64636769, 0.57273577,\n",
       "       0.06166101, 0.61556675, 0.91385422, 0.82110203, 0.29339686,\n",
       "       0.52741422, 0.21751435, 0.505421  , 0.11077905, 0.58956577,\n",
       "       0.75517729, 0.10981677, 0.10390935, 0.80983201, 0.83093309,\n",
       "       0.61245098, 0.41506608, 0.88188747, 0.26235356, 0.97679813,\n",
       "       0.24935426, 0.52465837, 0.5788938 , 0.44078021, 0.48808187,\n",
       "       0.33216678, 0.15884573, 0.80866345, 0.69668219, 0.88429506,\n",
       "       0.79685518, 0.51598958, 0.25081893, 0.93470574, 0.96813497,\n",
       "       0.92038488, 0.18928565, 0.12895904, 0.0067289 , 0.70688828,\n",
       "       0.03028867, 0.84946478, 0.4118066 , 0.07580492, 0.08134104,\n",
       "       0.10822966, 0.7940019 , 0.93934712, 0.0701725 , 0.60536709,\n",
       "       0.52223665, 0.8938457 , 0.04473093, 0.99046951, 0.77405503,\n",
       "       0.94120016, 0.00774559, 0.52315966, 0.50892878, 0.31010002,\n",
       "       0.2637009 , 0.37661751, 0.15554383, 0.17918944, 0.00475381,\n",
       "       0.28804936, 0.09757137, 0.90519849, 0.86128141, 0.32963191,\n",
       "       0.38902308, 0.44265421, 0.20418945, 0.92816692, 0.68684095,\n",
       "       0.65853732, 0.75468247, 0.54635718, 0.30996233, 0.40860466,\n",
       "       0.64960767, 0.99745479, 0.16432583, 0.89796941, 0.44349132,\n",
       "       0.47681965, 0.53705969, 0.79994089, 0.87438037, 0.2797553 ,\n",
       "       0.93185854, 0.54696777, 0.39117537, 0.09135021, 0.70311896,\n",
       "       0.99860623, 0.84622067, 0.56984155, 0.62086416, 0.70757933,\n",
       "       0.75798374, 0.24916346, 0.665778  , 0.78461032, 0.40089457,\n",
       "       0.70713523, 0.35533223, 0.63728981, 0.5652498 , 0.82898192,\n",
       "       0.36849461, 0.55674759, 0.09028776, 0.30522762, 0.58734215,\n",
       "       0.69612235, 0.96196472, 0.43315517, 0.2402033 , 0.66902775,\n",
       "       0.54181503, 0.30374495, 0.60833489, 0.28222054, 0.11016194,\n",
       "       0.19127739, 0.15858757, 0.18969257, 0.13281565, 0.62695564,\n",
       "       0.74667566, 0.56763693, 0.94723869, 0.49773956, 0.65240569,\n",
       "       0.8295888 , 0.61325952, 0.25893278, 0.97517106, 0.240542  ,\n",
       "       0.62551304, 0.17662257, 0.55466411, 0.37400328, 0.15147765,\n",
       "       0.03808385, 0.84227931, 0.86703339, 0.53013182, 0.41585998,\n",
       "       0.29329388, 0.68803483, 0.51899088, 0.3047161 , 0.7057752 ,\n",
       "       0.99160347, 0.22072247, 0.13725363, 0.02791444, 0.85532825,\n",
       "       0.10333913, 0.86844579, 0.84227964, 0.15839001, 0.93405159,\n",
       "       0.64380192, 0.13955055, 0.49290518, 0.31752602, 0.66441445,\n",
       "       0.53430975, 0.71703143, 0.81044642, 0.09788685, 0.57630139,\n",
       "       0.66391147, 0.26236843, 0.72397913, 0.48186945, 0.28129835,\n",
       "       0.28643228, 0.23228033, 0.46308159, 0.21071087, 0.88767264,\n",
       "       0.62960672, 0.90049265, 0.37638274, 0.13470006, 0.15204686,\n",
       "       0.7994509 , 0.19427631, 0.93558522, 0.16995101, 0.6590019 ,\n",
       "       0.24272722, 0.36786089, 0.09240433, 0.55089271, 0.13152257])"
      ]
     },
     "execution_count": 59,
     "metadata": {},
     "output_type": "execute_result"
    }
   ],
   "source": [
    "A"
   ]
  },
  {
   "cell_type": "code",
   "execution_count": 61,
   "metadata": {},
   "outputs": [],
   "source": [
    "import matplotlib.pyplot as plt"
   ]
  },
  {
   "cell_type": "code",
   "execution_count": 63,
   "metadata": {},
   "outputs": [
    {
     "data": {
      "text/plain": [
       "(array([ 84., 110., 108., 112.,  98.,  97., 103., 104.,  84., 100.]),\n",
       " array([3.59442397e-04, 1.00248517e-01, 2.00137592e-01, 3.00026666e-01,\n",
       "        3.99915741e-01, 4.99804815e-01, 5.99693890e-01, 6.99582964e-01,\n",
       "        7.99472039e-01, 8.99361114e-01, 9.99250188e-01]),\n",
       " <a list of 10 Patch objects>)"
      ]
     },
     "execution_count": 63,
     "metadata": {},
     "output_type": "execute_result"
    },
    {
     "data": {
      "image/png": "[encoded data removed]",
      "text/plain": [
       "<Figure size 432x288 with 1 Axes>"
      ]
     },
     "metadata": {
      "needs_background": "light"
     },
     "output_type": "display_data"
    }
   ],
   "source": [
    "plt.hist(A)"
   ]
  },
  {
   "cell_type": "code",
   "execution_count": 64,
   "metadata": {},
   "outputs": [
    {
     "data": {
      "text/plain": [
       "(array([14.,  9.,  6.,  6.,  9.,  7.,  7., 12.,  7.,  7.,  8., 12., 16.,\n",
       "        10.,  8., 11., 14.,  9., 10., 12., 11., 10., 12., 13., 12., 10.,\n",
       "        10.,  8., 12., 10., 10., 12.,  5., 11., 12., 15., 15., 15.,  7.,\n",
       "        10., 13., 12.,  3.,  8., 13.,  7., 13.,  9., 11.,  9.,  7., 11.,\n",
       "        13.,  8., 10., 10.,  8., 12., 12.,  6., 12., 12., 11., 13.,  9.,\n",
       "        12.,  6.,  7., 11., 10.,  3., 10., 12.,  6., 14., 14.,  8., 10.,\n",
       "        14., 13., 12.,  3.,  8.,  6.,  8.,  9., 10., 12.,  9.,  7.,  8.,\n",
       "         9., 10.,  9., 14., 11.,  8., 16.,  7.,  8.]),\n",
       " array([3.59442397e-04, 1.03483499e-02, 2.03372573e-02, 3.03261648e-02,\n",
       "        4.03150722e-02, 5.03039797e-02, 6.02928871e-02, 7.02817946e-02,\n",
       "        8.02707021e-02, 9.02596095e-02, 1.00248517e-01, 1.10237424e-01,\n",
       "        1.20226332e-01, 1.30215239e-01, 1.40204147e-01, 1.50193054e-01,\n",
       "        1.60181962e-01, 1.70170869e-01, 1.80159777e-01, 1.90148684e-01,\n",
       "        2.00137592e-01, 2.10126499e-01, 2.20115406e-01, 2.30104314e-01,\n",
       "        2.40093221e-01, 2.50082129e-01, 2.60071036e-01, 2.70059944e-01,\n",
       "        2.80048851e-01, 2.90037759e-01, 3.00026666e-01, 3.10015574e-01,\n",
       "        3.20004481e-01, 3.29993388e-01, 3.39982296e-01, 3.49971203e-01,\n",
       "        3.59960111e-01, 3.69949018e-01, 3.79937926e-01, 3.89926833e-01,\n",
       "        3.99915741e-01, 4.09904648e-01, 4.19893556e-01, 4.29882463e-01,\n",
       "        4.39871370e-01, 4.49860278e-01, 4.59849185e-01, 4.69838093e-01,\n",
       "        4.79827000e-01, 4.89815908e-01, 4.99804815e-01, 5.09793723e-01,\n",
       "        5.19782630e-01, 5.29771538e-01, 5.39760445e-01, 5.49749353e-01,\n",
       "        5.59738260e-01, 5.69727167e-01, 5.79716075e-01, 5.89704982e-01,\n",
       "        5.99693890e-01, 6.09682797e-01, 6.19671705e-01, 6.29660612e-01,\n",
       "        6.39649520e-01, 6.49638427e-01, 6.59627335e-01, 6.69616242e-01,\n",
       "        6.79605149e-01, 6.89594057e-01, 6.99582964e-01, 7.09571872e-01,\n",
       "        7.19560779e-01, 7.29549687e-01, 7.39538594e-01, 7.49527502e-01,\n",
       "        7.59516409e-01, 7.69505317e-01, 7.79494224e-01, 7.89483131e-01,\n",
       "        7.99472039e-01, 8.09460946e-01, 8.19449854e-01, 8.29438761e-01,\n",
       "        8.39427669e-01, 8.49416576e-01, 8.59405484e-01, 8.69394391e-01,\n",
       "        8.79383299e-01, 8.89372206e-01, 8.99361114e-01, 9.09350021e-01,\n",
       "        9.19338928e-01, 9.29327836e-01, 9.39316743e-01, 9.49305651e-01,\n",
       "        9.59294558e-01, 9.69283466e-01, 9.79272373e-01, 9.89261281e-01,\n",
       "        9.99250188e-01]),\n",
       " <a list of 100 Patch objects>)"
      ]
     },
     "execution_count": 64,
     "metadata": {},
     "output_type": "execute_result"
    },
    {
     "data": {
      "image/png": "[encoded data removed]",
      "text/plain": [
       "<Figure size 432x288 with 1 Axes>"
      ]
     },
     "metadata": {
      "needs_background": "light"
     },
     "output_type": "display_data"
    }
   ],
   "source": [
    "plt.hist(A,bins=100)"
   ]
  },
  {
   "cell_type": "code",
   "execution_count": 66,
   "metadata": {},
   "outputs": [
    {
     "data": {
      "text/plain": [
       "(array([1.000e+00, 0.000e+00, 0.000e+00, 0.000e+00, 0.000e+00, 0.000e+00,\n",
       "        0.000e+00, 1.000e+00, 1.000e+00, 0.000e+00, 0.000e+00, 2.000e+00,\n",
       "        0.000e+00, 2.000e+00, 1.000e+00, 3.000e+00, 0.000e+00, 1.000e+00,\n",
       "        5.000e+00, 1.000e+00, 5.000e+00, 5.000e+00, 5.000e+00, 3.000e+00,\n",
       "        8.000e+00, 6.000e+00, 1.000e+01, 7.000e+00, 9.000e+00, 9.000e+00,\n",
       "        2.400e+01, 1.000e+01, 1.100e+01, 1.800e+01, 1.600e+01, 2.300e+01,\n",
       "        4.000e+01, 3.000e+01, 4.400e+01, 3.900e+01, 5.700e+01, 4.300e+01,\n",
       "        6.200e+01, 7.300e+01, 8.400e+01, 8.400e+01, 8.400e+01, 1.020e+02,\n",
       "        1.220e+02, 1.110e+02, 1.320e+02, 1.520e+02, 1.680e+02, 1.770e+02,\n",
       "        2.150e+02, 2.230e+02, 2.460e+02, 2.930e+02, 3.050e+02, 2.630e+02,\n",
       "        3.490e+02, 3.480e+02, 4.500e+02, 4.030e+02, 4.840e+02, 4.670e+02,\n",
       "        5.120e+02, 6.040e+02, 5.660e+02, 7.050e+02, 6.790e+02, 7.450e+02,\n",
       "        7.170e+02, 7.770e+02, 8.370e+02, 9.070e+02, 9.120e+02, 1.011e+03,\n",
       "        1.052e+03, 1.084e+03, 1.146e+03, 1.129e+03, 1.140e+03, 1.232e+03,\n",
       "        1.335e+03, 1.425e+03, 1.467e+03, 1.415e+03, 1.444e+03, 1.473e+03,\n",
       "        1.540e+03, 1.551e+03, 1.573e+03, 1.675e+03, 1.705e+03, 1.719e+03,\n",
       "        1.670e+03, 1.707e+03, 1.746e+03, 1.754e+03, 1.784e+03, 1.744e+03,\n",
       "        1.721e+03, 1.784e+03, 1.714e+03, 1.720e+03, 1.728e+03, 1.783e+03,\n",
       "        1.654e+03, 1.601e+03, 1.616e+03, 1.568e+03, 1.536e+03, 1.552e+03,\n",
       "        1.436e+03, 1.510e+03, 1.460e+03, 1.425e+03, 1.349e+03, 1.346e+03,\n",
       "        1.280e+03, 1.209e+03, 1.158e+03, 1.111e+03, 1.115e+03, 1.024e+03,\n",
       "        9.690e+02, 9.540e+02, 8.630e+02, 8.790e+02, 7.860e+02, 7.530e+02,\n",
       "        7.020e+02, 6.420e+02, 6.310e+02, 5.800e+02, 5.390e+02, 5.070e+02,\n",
       "        4.630e+02, 4.660e+02, 4.140e+02, 4.170e+02, 3.490e+02, 3.370e+02,\n",
       "        2.810e+02, 2.680e+02, 2.550e+02, 2.370e+02, 2.060e+02, 1.800e+02,\n",
       "        1.650e+02, 1.740e+02, 1.440e+02, 1.130e+02, 1.020e+02, 1.110e+02,\n",
       "        9.000e+01, 6.200e+01, 5.800e+01, 6.300e+01, 5.700e+01, 5.100e+01,\n",
       "        5.500e+01, 4.500e+01, 3.700e+01, 4.000e+01, 3.400e+01, 2.800e+01,\n",
       "        2.500e+01, 2.000e+01, 1.800e+01, 1.700e+01, 1.800e+01, 5.000e+00,\n",
       "        1.100e+01, 7.000e+00, 8.000e+00, 1.000e+01, 6.000e+00, 1.000e+01,\n",
       "        5.000e+00, 1.000e+00, 3.000e+00, 1.000e+00, 2.000e+00, 2.000e+00,\n",
       "        1.000e+00, 1.000e+00, 1.000e+00, 1.000e+00, 0.000e+00, 0.000e+00,\n",
       "        0.000e+00, 0.000e+00, 0.000e+00, 0.000e+00, 0.000e+00, 0.000e+00,\n",
       "        0.000e+00, 1.000e+00]),\n",
       " array([-4.48434653, -4.44032898, -4.39631143, -4.35229388, -4.30827633,\n",
       "        -4.26425878, -4.22024123, -4.17622368, -4.13220613, -4.08818858,\n",
       "        -4.04417103, -4.00015348, -3.95613593, -3.91211838, -3.86810083,\n",
       "        -3.82408328, -3.78006573, -3.73604818, -3.69203063, -3.64801308,\n",
       "        -3.60399553, -3.55997798, -3.51596043, -3.47194288, -3.42792533,\n",
       "        -3.38390778, -3.33989023, -3.29587268, -3.25185513, -3.20783758,\n",
       "        -3.16382003, -3.11980248, -3.07578493, -3.03176738, -2.98774983,\n",
       "        -2.94373228, -2.89971473, -2.85569718, -2.81167963, -2.76766208,\n",
       "        -2.72364453, -2.67962698, -2.63560943, -2.59159188, -2.54757433,\n",
       "        -2.50355678, -2.45953923, -2.41552168, -2.37150413, -2.32748658,\n",
       "        -2.28346903, -2.23945148, -2.19543393, -2.15141638, -2.10739883,\n",
       "        -2.06338128, -2.01936373, -1.97534618, -1.93132863, -1.88731108,\n",
       "        -1.84329353, -1.79927598, -1.75525843, -1.71124088, -1.66722333,\n",
       "        -1.62320578, -1.57918823, -1.53517068, -1.49115313, -1.44713558,\n",
       "        -1.40311803, -1.35910048, -1.31508293, -1.27106538, -1.22704783,\n",
       "        -1.18303028, -1.13901273, -1.09499518, -1.05097763, -1.00696008,\n",
       "        -0.96294253, -0.91892498, -0.87490743, -0.83088988, -0.78687233,\n",
       "        -0.74285478, -0.69883723, -0.65481968, -0.61080213, -0.56678459,\n",
       "        -0.52276704, -0.47874949, -0.43473194, -0.39071439, -0.34669684,\n",
       "        -0.30267929, -0.25866174, -0.21464419, -0.17062664, -0.12660909,\n",
       "        -0.08259154, -0.03857399,  0.00544356,  0.04946111,  0.09347866,\n",
       "         0.13749621,  0.18151376,  0.22553131,  0.26954886,  0.31356641,\n",
       "         0.35758396,  0.40160151,  0.44561906,  0.48963661,  0.53365416,\n",
       "         0.57767171,  0.62168926,  0.66570681,  0.70972436,  0.75374191,\n",
       "         0.79775946,  0.84177701,  0.88579456,  0.92981211,  0.97382966,\n",
       "         1.01784721,  1.06186476,  1.10588231,  1.14989986,  1.19391741,\n",
       "         1.23793496,  1.28195251,  1.32597006,  1.36998761,  1.41400516,\n",
       "         1.45802271,  1.50204026,  1.54605781,  1.59007536,  1.63409291,\n",
       "         1.67811046,  1.72212801,  1.76614556,  1.81016311,  1.85418066,\n",
       "         1.89819821,  1.94221576,  1.98623331,  2.03025086,  2.07426841,\n",
       "         2.11828596,  2.16230351,  2.20632106,  2.25033861,  2.29435616,\n",
       "         2.33837371,  2.38239126,  2.42640881,  2.47042636,  2.51444391,\n",
       "         2.55846146,  2.60247901,  2.64649656,  2.69051411,  2.73453166,\n",
       "         2.77854921,  2.82256676,  2.86658431,  2.91060186,  2.95461941,\n",
       "         2.99863696,  3.04265451,  3.08667206,  3.13068961,  3.17470716,\n",
       "         3.21872471,  3.26274226,  3.30675981,  3.35077736,  3.39479491,\n",
       "         3.43881246,  3.48283001,  3.52684756,  3.57086511,  3.61488266,\n",
       "         3.6589002 ,  3.70291775,  3.7469353 ,  3.79095285,  3.8349704 ,\n",
       "         3.87898795,  3.9230055 ,  3.96702305,  4.0110406 ,  4.05505815,\n",
       "         4.0990757 ,  4.14309325,  4.1871108 ,  4.23112835,  4.2751459 ,\n",
       "         4.31916345]),\n",
       " <a list of 200 Patch objects>)"
      ]
     },
     "execution_count": 66,
     "metadata": {},
     "output_type": "execute_result"
    },
    {
     "data": {
      "image/png": "[encoded data removed]",
      "text/plain": [
       "<Figure size 432x288 with 1 Axes>"
      ]
     },
     "metadata": {
      "needs_background": "light"
     },
     "output_type": "display_data"
    }
   ],
   "source": [
    "B = np.random.randn(100000)\n",
    "plt.hist(B,bins=200)"
   ]
  },
  {
   "cell_type": "code",
   "execution_count": 67,
   "metadata": {},
   "outputs": [],
   "source": [
    "C = np.random.rand(2,3)\n"
   ]
  },
  {
   "cell_type": "code",
   "execution_count": 68,
   "metadata": {},
   "outputs": [
    {
     "data": {
      "text/plain": [
       "array([[0.89367141, 0.77158066, 0.49455577],\n",
       "       [0.05829245, 0.21444239, 0.33818788]])"
      ]
     },
     "execution_count": 68,
     "metadata": {},
     "output_type": "execute_result"
    }
   ],
   "source": [
    "C"
   ]
  },
  {
   "cell_type": "code",
   "execution_count": 69,
   "metadata": {},
   "outputs": [
    {
     "data": {
      "text/plain": [
       "2"
      ]
     },
     "execution_count": 69,
     "metadata": {},
     "output_type": "execute_result"
    }
   ],
   "source": [
    "C.ndim"
   ]
  },
  {
   "cell_type": "code",
   "execution_count": 70,
   "metadata": {},
   "outputs": [],
   "source": [
    "C = np.random.rand(2,3,4,2) #4D array"
   ]
  },
  {
   "cell_type": "code",
   "execution_count": 71,
   "metadata": {},
   "outputs": [
    {
     "data": {
      "text/plain": [
       "4"
      ]
     },
     "execution_count": 71,
     "metadata": {},
     "output_type": "execute_result"
    }
   ],
   "source": [
    "C.ndim"
   ]
  },
  {
   "cell_type": "code",
   "execution_count": 72,
   "metadata": {},
   "outputs": [],
   "source": [
    "D = np.arange(100).reshape(4,25)"
   ]
  },
  {
   "cell_type": "code",
   "execution_count": 78,
   "metadata": {},
   "outputs": [
    {
     "name": "stdout",
     "output_type": "stream",
     "text": [
      "[[[ 0  1  2  3  4]\n",
      "  [ 5  6  7  8  9]\n",
      "  [10 11 12 13 14]\n",
      "  [15 16 17 18 19]\n",
      "  [20 21 22 23 24]]\n",
      "\n",
      " [[25 26 27 28 29]\n",
      "  [30 31 32 33 34]\n",
      "  [35 36 37 38 39]\n",
      "  [40 41 42 43 44]\n",
      "  [45 46 47 48 49]]\n",
      "\n",
      " [[50 51 52 53 54]\n",
      "  [55 56 57 58 59]\n",
      "  [60 61 62 63 64]\n",
      "  [65 66 67 68 69]\n",
      "  [70 71 72 73 74]]\n",
      "\n",
      " [[75 76 77 78 79]\n",
      "  [80 81 82 83 84]\n",
      "  [85 86 87 88 89]\n",
      "  [90 91 92 93 94]\n",
      "  [95 96 97 98 99]]]\n"
     ]
    }
   ],
   "source": [
    "print(D)"
   ]
  },
  {
   "cell_type": "code",
   "execution_count": 73,
   "metadata": {},
   "outputs": [
    {
     "data": {
      "text/plain": [
       "(4, 25)"
      ]
     },
     "execution_count": 73,
     "metadata": {},
     "output_type": "execute_result"
    }
   ],
   "source": [
    "D.shape"
   ]
  },
  {
   "cell_type": "code",
   "execution_count": 74,
   "metadata": {},
   "outputs": [],
   "source": [
    "D = np.arange(100).reshape(4,5,5) #To reshape the array"
   ]
  },
  {
   "cell_type": "code",
   "execution_count": 75,
   "metadata": {},
   "outputs": [
    {
     "data": {
      "text/plain": [
       "(4, 5, 5)"
      ]
     },
     "execution_count": 75,
     "metadata": {},
     "output_type": "execute_result"
    }
   ],
   "source": [
    "D.shape"
   ]
  },
  {
   "cell_type": "code",
   "execution_count": 79,
   "metadata": {},
   "outputs": [],
   "source": [
    "np.zeros?"
   ]
  },
  {
   "cell_type": "code",
   "execution_count": 80,
   "metadata": {},
   "outputs": [],
   "source": [
    "np.ones?"
   ]
  },
  {
   "cell_type": "markdown",
   "metadata": {},
   "source": [
    "# Slicing"
   ]
  },
  {
   "cell_type": "code",
   "execution_count": 84,
   "metadata": {},
   "outputs": [],
   "source": [
    "a = np.arange(100)"
   ]
  },
  {
   "cell_type": "code",
   "execution_count": 85,
   "metadata": {},
   "outputs": [
    {
     "name": "stdout",
     "output_type": "stream",
     "text": [
      "[3 4 5 6 7 8 9]\n"
     ]
    }
   ],
   "source": [
    "b = a[3:10]\n",
    "print(b)"
   ]
  },
  {
   "cell_type": "code",
   "execution_count": 86,
   "metadata": {},
   "outputs": [],
   "source": [
    "b[0] = -1200"
   ]
  },
  {
   "cell_type": "code",
   "execution_count": 87,
   "metadata": {},
   "outputs": [
    {
     "data": {
      "text/plain": [
       "array([-1200,     4,     5,     6,     7,     8,     9])"
      ]
     },
     "execution_count": 87,
     "metadata": {},
     "output_type": "execute_result"
    }
   ],
   "source": [
    "b"
   ]
  },
  {
   "cell_type": "code",
   "execution_count": 88,
   "metadata": {},
   "outputs": [
    {
     "data": {
      "text/plain": [
       "array([    0,     1,     2, -1200,     4,     5,     6,     7,     8,\n",
       "           9,    10,    11,    12,    13,    14,    15,    16,    17,\n",
       "          18,    19,    20,    21,    22,    23,    24,    25,    26,\n",
       "          27,    28,    29,    30,    31,    32,    33,    34,    35,\n",
       "          36,    37,    38,    39,    40,    41,    42,    43,    44,\n",
       "          45,    46,    47,    48,    49,    50,    51,    52,    53,\n",
       "          54,    55,    56,    57,    58,    59,    60,    61,    62,\n",
       "          63,    64,    65,    66,    67,    68,    69,    70,    71,\n",
       "          72,    73,    74,    75,    76,    77,    78,    79,    80,\n",
       "          81,    82,    83,    84,    85,    86,    87,    88,    89,\n",
       "          90,    91,    92,    93,    94,    95,    96,    97,    98,\n",
       "          99])"
      ]
     },
     "execution_count": 88,
     "metadata": {},
     "output_type": "execute_result"
    }
   ],
   "source": [
    "a #The contents of a also change when we change b"
   ]
  },
  {
   "cell_type": "code",
   "execution_count": 89,
   "metadata": {},
   "outputs": [],
   "source": [
    "#to change this function\n",
    "b = a[3:10].copy()"
   ]
  },
  {
   "cell_type": "code",
   "execution_count": 95,
   "metadata": {},
   "outputs": [
    {
     "data": {
      "text/plain": [
       "array([ 0,  5, 10, 15, 20, 25, 30, 35, 40, 45, 50, 55, 60, 65, 70, 75, 80,\n",
       "       85, 90, 95])"
      ]
     },
     "execution_count": 95,
     "metadata": {},
     "output_type": "execute_result"
    }
   ],
   "source": [
    "a[: : 5] #starts from zero to last element and picks every 5th element"
   ]
  },
  {
   "cell_type": "code",
   "execution_count": 96,
   "metadata": {},
   "outputs": [
    {
     "data": {
      "text/plain": [
       "array([99, 94, 89, 84, 79, 74, 69, 64, 59, 54, 49, 44, 39, 34, 29, 24, 19,\n",
       "       14,  9,  4])"
      ]
     },
     "execution_count": 96,
     "metadata": {},
     "output_type": "execute_result"
    }
   ],
   "source": [
    "a[::-5]"
   ]
  },
  {
   "cell_type": "code",
   "execution_count": 97,
   "metadata": {},
   "outputs": [
    {
     "data": {
      "text/plain": [
       "array([   99,    98,    97,    96,    95,    94,    93,    92,    91,\n",
       "          90,    89,    88,    87,    86,    85,    84,    83,    82,\n",
       "          81,    80,    79,    78,    77,    76,    75,    74,    73,\n",
       "          72,    71,    70,    69,    68,    67,    66,    65,    64,\n",
       "          63,    62,    61,    60,    59,    58,    57,    56,    55,\n",
       "          54,    53,    52,    51,    50,    49,    48,    47,    46,\n",
       "          45,    44,    43,    42,    41,    40,    39,    38,    37,\n",
       "          36,    35,    34,    33,    32,    31,    30,    29,    28,\n",
       "          27,    26,    25,    24,    23,    22,    21,    20,    19,\n",
       "          18,    17,    16,    15,    14,    13,    12,    11,    10,\n",
       "           9,     8,     7,     6,     5,     4, -1200,     2,     1,\n",
       "           0])"
      ]
     },
     "execution_count": 97,
     "metadata": {},
     "output_type": "execute_result"
    }
   ],
   "source": [
    "a[::-1] #To reverse the entire array"
   ]
  },
  {
   "cell_type": "code",
   "execution_count": 94,
   "metadata": {},
   "outputs": [],
   "source": [
    "np.indices?"
   ]
  },
  {
   "cell_type": "code",
   "execution_count": 100,
   "metadata": {},
   "outputs": [
    {
     "data": {
      "text/plain": [
       "array([False, False, False,  True, False, False, False, False, False,\n",
       "       False, False, False, False, False, False, False, False, False,\n",
       "       False, False, False, False, False, False, False, False, False,\n",
       "       False, False, False, False, False, False, False, False, False,\n",
       "       False, False, False, False, False, False, False, False, False,\n",
       "       False, False, False, False, False, False, False, False, False,\n",
       "       False, False, False, False, False, False, False, False, False,\n",
       "       False, False, False, False, False, False, False, False, False,\n",
       "       False, False, False, False, False, False, False, False, False,\n",
       "       False, False, False, False, False, False, False, False, False,\n",
       "       False, False, False, False, False, False, False, False, False,\n",
       "       False])"
      ]
     },
     "execution_count": 100,
     "metadata": {},
     "output_type": "execute_result"
    }
   ],
   "source": [
    "#To find the index of -1200\n",
    "a==-1200"
   ]
  },
  {
   "cell_type": "code",
   "execution_count": 99,
   "metadata": {},
   "outputs": [],
   "source": [
    "B = (a==-1200)*np.arange(a.size)"
   ]
  },
  {
   "cell_type": "code",
   "execution_count": 101,
   "metadata": {},
   "outputs": [
    {
     "data": {
      "text/plain": [
       "array([0, 0, 0, 3, 0, 0, 0, 0, 0, 0, 0, 0, 0, 0, 0, 0, 0, 0, 0, 0, 0, 0,\n",
       "       0, 0, 0, 0, 0, 0, 0, 0, 0, 0, 0, 0, 0, 0, 0, 0, 0, 0, 0, 0, 0, 0,\n",
       "       0, 0, 0, 0, 0, 0, 0, 0, 0, 0, 0, 0, 0, 0, 0, 0, 0, 0, 0, 0, 0, 0,\n",
       "       0, 0, 0, 0, 0, 0, 0, 0, 0, 0, 0, 0, 0, 0, 0, 0, 0, 0, 0, 0, 0, 0,\n",
       "       0, 0, 0, 0, 0, 0, 0, 0, 0, 0, 0, 0])"
      ]
     },
     "execution_count": 101,
     "metadata": {},
     "output_type": "execute_result"
    }
   ],
   "source": [
    "B"
   ]
  },
  {
   "cell_type": "code",
   "execution_count": 102,
   "metadata": {},
   "outputs": [],
   "source": [
    "idx = np.argwhere(a==-1200)[0][0]"
   ]
  },
  {
   "cell_type": "code",
   "execution_count": 103,
   "metadata": {},
   "outputs": [
    {
     "data": {
      "text/plain": [
       "3"
      ]
     },
     "execution_count": 103,
     "metadata": {},
     "output_type": "execute_result"
    }
   ],
   "source": [
    "idx"
   ]
  },
  {
   "cell_type": "code",
   "execution_count": 104,
   "metadata": {},
   "outputs": [],
   "source": [
    "#To change the value in that index position\n",
    "a[idx]=3"
   ]
  },
  {
   "cell_type": "code",
   "execution_count": 105,
   "metadata": {},
   "outputs": [
    {
     "data": {
      "text/plain": [
       "array([ 0,  1,  2,  3,  4,  5,  6,  7,  8,  9, 10, 11, 12, 13, 14, 15, 16,\n",
       "       17, 18, 19, 20, 21, 22, 23, 24, 25, 26, 27, 28, 29, 30, 31, 32, 33,\n",
       "       34, 35, 36, 37, 38, 39, 40, 41, 42, 43, 44, 45, 46, 47, 48, 49, 50,\n",
       "       51, 52, 53, 54, 55, 56, 57, 58, 59, 60, 61, 62, 63, 64, 65, 66, 67,\n",
       "       68, 69, 70, 71, 72, 73, 74, 75, 76, 77, 78, 79, 80, 81, 82, 83, 84,\n",
       "       85, 86, 87, 88, 89, 90, 91, 92, 93, 94, 95, 96, 97, 98, 99])"
      ]
     },
     "execution_count": 105,
     "metadata": {},
     "output_type": "execute_result"
    }
   ],
   "source": [
    "a"
   ]
  },
  {
   "cell_type": "code",
   "execution_count": 109,
   "metadata": {},
   "outputs": [],
   "source": [
    "a = np.round(10*np.random.rand(5,4))"
   ]
  },
  {
   "cell_type": "code",
   "execution_count": 110,
   "metadata": {},
   "outputs": [
    {
     "data": {
      "text/plain": [
       "array([[ 5.,  5.,  8.,  2.],\n",
       "       [ 4.,  5.,  8.,  8.],\n",
       "       [10.,  5.,  9.,  7.],\n",
       "       [ 5.,  6.,  3., 10.],\n",
       "       [ 8.,  2.,  3.,  1.]])"
      ]
     },
     "execution_count": 110,
     "metadata": {},
     "output_type": "execute_result"
    }
   ],
   "source": [
    "a"
   ]
  },
  {
   "cell_type": "code",
   "execution_count": 111,
   "metadata": {},
   "outputs": [
    {
     "data": {
      "text/plain": [
       "8.0"
      ]
     },
     "execution_count": 111,
     "metadata": {},
     "output_type": "execute_result"
    }
   ],
   "source": [
    "a[1,2]"
   ]
  },
  {
   "cell_type": "code",
   "execution_count": 113,
   "metadata": {},
   "outputs": [
    {
     "data": {
      "text/plain": [
       "array([4., 5., 8., 8.])"
      ]
     },
     "execution_count": 113,
     "metadata": {},
     "output_type": "execute_result"
    }
   ],
   "source": [
    "a[1,:] #access row 1 with all columns"
   ]
  },
  {
   "cell_type": "code",
   "execution_count": 115,
   "metadata": {},
   "outputs": [
    {
     "data": {
      "text/plain": [
       "array([5., 5., 5., 6., 2.])"
      ]
     },
     "execution_count": 115,
     "metadata": {},
     "output_type": "execute_result"
    }
   ],
   "source": [
    "a[:,1] #Whole second colum with all rows"
   ]
  },
  {
   "cell_type": "code",
   "execution_count": 116,
   "metadata": {},
   "outputs": [
    {
     "data": {
      "text/plain": [
       "array([1, 2])"
      ]
     },
     "execution_count": 116,
     "metadata": {},
     "output_type": "execute_result"
    }
   ],
   "source": [
    "A[1:3]"
   ]
  },
  {
   "cell_type": "code",
   "execution_count": 118,
   "metadata": {},
   "outputs": [
    {
     "data": {
      "text/plain": [
       "array([[8., 8.],\n",
       "       [9., 7.]])"
      ]
     },
     "execution_count": 118,
     "metadata": {},
     "output_type": "execute_result"
    }
   ],
   "source": [
    "a[1:3,2:4] #Row number 1 to 3 not including 3, with column numbers 2 t0 4"
   ]
  },
  {
   "cell_type": "code",
   "execution_count": 119,
   "metadata": {},
   "outputs": [
    {
     "data": {
      "text/plain": [
       "array([[ 5.,  5.,  8.,  2.],\n",
       "       [ 4.,  5.,  8.,  8.],\n",
       "       [10.,  5.,  9.,  7.],\n",
       "       [ 5.,  6.,  3., 10.],\n",
       "       [ 8.,  2.,  3.,  1.]])"
      ]
     },
     "execution_count": 119,
     "metadata": {},
     "output_type": "execute_result"
    }
   ],
   "source": [
    "a"
   ]
  },
  {
   "cell_type": "code",
   "execution_count": 120,
   "metadata": {},
   "outputs": [
    {
     "data": {
      "text/plain": [
       "array([[ 5.,  4., 10.,  5.,  8.],\n",
       "       [ 5.,  5.,  5.,  6.,  2.],\n",
       "       [ 8.,  8.,  9.,  3.,  3.],\n",
       "       [ 2.,  8.,  7., 10.,  1.]])"
      ]
     },
     "execution_count": 120,
     "metadata": {},
     "output_type": "execute_result"
    }
   ],
   "source": [
    "a.T #Traspose"
   ]
  },
  {
   "cell_type": "code",
   "execution_count": 121,
   "metadata": {},
   "outputs": [],
   "source": [
    "import numpy.linalg as la"
   ]
  },
  {
   "cell_type": "code",
   "execution_count": 123,
   "metadata": {},
   "outputs": [
    {
     "data": {
      "text/plain": [
       "array([[ 1.88091369, -0.21191177, -2.18418109],\n",
       "       [ 0.37358468, -2.44088628,  2.86860722],\n",
       "       [-0.26103291,  1.38317551, -0.10111978]])"
      ]
     },
     "execution_count": 123,
     "metadata": {},
     "output_type": "execute_result"
    }
   ],
   "source": [
    "la.inv(np.random.rand(3,3)) #inverse"
   ]
  },
  {
   "cell_type": "code",
   "execution_count": 124,
   "metadata": {},
   "outputs": [],
   "source": [
    "a.sort(axis=0) #sort all the columns indiviadually"
   ]
  },
  {
   "cell_type": "code",
   "execution_count": 125,
   "metadata": {},
   "outputs": [
    {
     "data": {
      "text/plain": [
       "array([[ 4.,  2.,  3.,  1.],\n",
       "       [ 5.,  5.,  3.,  2.],\n",
       "       [ 5.,  5.,  8.,  7.],\n",
       "       [ 8.,  5.,  8.,  8.],\n",
       "       [10.,  6.,  9., 10.]])"
      ]
     },
     "execution_count": 125,
     "metadata": {},
     "output_type": "execute_result"
    }
   ],
   "source": [
    "a"
   ]
  },
  {
   "cell_type": "code",
   "execution_count": 126,
   "metadata": {},
   "outputs": [],
   "source": [
    "a.sort(axis=1) #sort all the rows indiviadually"
   ]
  },
  {
   "cell_type": "code",
   "execution_count": 127,
   "metadata": {},
   "outputs": [
    {
     "data": {
      "text/plain": [
       "array([[ 1.,  2.,  3.,  4.],\n",
       "       [ 2.,  3.,  5.,  5.],\n",
       "       [ 5.,  5.,  7.,  8.],\n",
       "       [ 5.,  8.,  8.,  8.],\n",
       "       [ 6.,  9., 10., 10.]])"
      ]
     },
     "execution_count": 127,
     "metadata": {},
     "output_type": "execute_result"
    }
   ],
   "source": [
    "a"
   ]
  },
  {
   "cell_type": "markdown",
   "metadata": {},
   "source": [
    "# More indexing"
   ]
  },
  {
   "cell_type": "markdown",
   "metadata": {},
   "source": [
    "A[index_array]"
   ]
  },
  {
   "cell_type": "markdown",
   "metadata": {},
   "source": [
    "a[[1,4,6]] #index 1,4, and 6 elements"
   ]
  },
  {
   "cell_type": "markdown",
   "metadata": {},
   "source": [
    "a[[True, True, False, False, True, True, Tru, False]]"
   ]
  },
  {
   "cell_type": "markdown",
   "metadata": {},
   "source": [
    "Assuming array has 8 elements, \n",
    "the above returns all the elements corresponding to True index"
   ]
  },
  {
   "cell_type": "code",
   "execution_count": 128,
   "metadata": {},
   "outputs": [],
   "source": [
    "a = np.arange(100)"
   ]
  },
  {
   "cell_type": "code",
   "execution_count": 129,
   "metadata": {},
   "outputs": [],
   "source": [
    "b = a[[3,5,6]]"
   ]
  },
  {
   "cell_type": "code",
   "execution_count": 130,
   "metadata": {},
   "outputs": [
    {
     "data": {
      "text/plain": [
       "array([3, 5, 6])"
      ]
     },
     "execution_count": 130,
     "metadata": {},
     "output_type": "execute_result"
    }
   ],
   "source": [
    "b"
   ]
  },
  {
   "cell_type": "code",
   "execution_count": 131,
   "metadata": {},
   "outputs": [],
   "source": [
    "b[0] = -4 #This change does not happen in a. This change happen in b only"
   ]
  },
  {
   "cell_type": "code",
   "execution_count": 132,
   "metadata": {},
   "outputs": [
    {
     "data": {
      "text/plain": [
       "array([-4,  5,  6])"
      ]
     },
     "execution_count": 132,
     "metadata": {},
     "output_type": "execute_result"
    }
   ],
   "source": [
    "b"
   ]
  },
  {
   "cell_type": "code",
   "execution_count": 133,
   "metadata": {},
   "outputs": [
    {
     "data": {
      "text/plain": [
       "array([ 0,  1,  2,  3,  4,  5,  6,  7,  8,  9, 10, 11, 12, 13, 14, 15, 16,\n",
       "       17, 18, 19, 20, 21, 22, 23, 24, 25, 26, 27, 28, 29, 30, 31, 32, 33,\n",
       "       34, 35, 36, 37, 38, 39, 40, 41, 42, 43, 44, 45, 46, 47, 48, 49, 50,\n",
       "       51, 52, 53, 54, 55, 56, 57, 58, 59, 60, 61, 62, 63, 64, 65, 66, 67,\n",
       "       68, 69, 70, 71, 72, 73, 74, 75, 76, 77, 78, 79, 80, 81, 82, 83, 84,\n",
       "       85, 86, 87, 88, 89, 90, 91, 92, 93, 94, 95, 96, 97, 98, 99])"
      ]
     },
     "execution_count": 133,
     "metadata": {},
     "output_type": "execute_result"
    }
   ],
   "source": [
    "a"
   ]
  },
  {
   "cell_type": "code",
   "execution_count": 134,
   "metadata": {},
   "outputs": [],
   "source": [
    "b = a[a<40]"
   ]
  },
  {
   "cell_type": "code",
   "execution_count": 135,
   "metadata": {},
   "outputs": [
    {
     "data": {
      "text/plain": [
       "array([ 0,  1,  2,  3,  4,  5,  6,  7,  8,  9, 10, 11, 12, 13, 14, 15, 16,\n",
       "       17, 18, 19, 20, 21, 22, 23, 24, 25, 26, 27, 28, 29, 30, 31, 32, 33,\n",
       "       34, 35, 36, 37, 38, 39])"
      ]
     },
     "execution_count": 135,
     "metadata": {},
     "output_type": "execute_result"
    }
   ],
   "source": [
    "b"
   ]
  },
  {
   "cell_type": "code",
   "execution_count": 136,
   "metadata": {},
   "outputs": [],
   "source": [
    "b = a[(a<40) & (a>30)]"
   ]
  },
  {
   "cell_type": "code",
   "execution_count": 137,
   "metadata": {},
   "outputs": [
    {
     "data": {
      "text/plain": [
       "array([31, 32, 33, 34, 35, 36, 37, 38, 39])"
      ]
     },
     "execution_count": 137,
     "metadata": {},
     "output_type": "execute_result"
    }
   ],
   "source": [
    "b"
   ]
  },
  {
   "cell_type": "code",
   "execution_count": 138,
   "metadata": {},
   "outputs": [],
   "source": [
    "# &,|,~ - used for arrays\n",
    "# and,or not - used for single objects"
   ]
  },
  {
   "cell_type": "markdown",
   "metadata": {},
   "source": [
    "# Broadcasting"
   ]
  },
  {
   "cell_type": "code",
   "execution_count": 139,
   "metadata": {},
   "outputs": [],
   "source": [
    "A = A+5 #broadcasting is possible in Numpy arrays"
   ]
  },
  {
   "cell_type": "markdown",
   "metadata": {},
   "source": [
    "# hstack,vstack,sort"
   ]
  },
  {
   "cell_type": "markdown",
   "metadata": {},
   "source": [
    "hstack - Horizontal concatenation\n",
    "\n",
    "vstack - Vertical concatenation"
   ]
  },
  {
   "cell_type": "code",
   "execution_count": 142,
   "metadata": {},
   "outputs": [],
   "source": [
    "import numpy as np\n",
    "a = np.round(10*np.random.rand(2,3))"
   ]
  },
  {
   "cell_type": "code",
   "execution_count": 143,
   "metadata": {},
   "outputs": [
    {
     "data": {
      "text/plain": [
       "array([[9., 6., 5.],\n",
       "       [4., 9., 7.]])"
      ]
     },
     "execution_count": 143,
     "metadata": {},
     "output_type": "execute_result"
    }
   ],
   "source": [
    "a"
   ]
  },
  {
   "cell_type": "code",
   "execution_count": 145,
   "metadata": {},
   "outputs": [
    {
     "data": {
      "text/plain": [
       "array([[12.,  9.,  8.],\n",
       "       [ 7., 12., 10.]])"
      ]
     },
     "execution_count": 145,
     "metadata": {},
     "output_type": "execute_result"
    }
   ],
   "source": [
    "a+3 #Broadcasting"
   ]
  },
  {
   "cell_type": "code",
   "execution_count": 146,
   "metadata": {},
   "outputs": [
    {
     "data": {
      "text/plain": [
       "array([[ 9.,  6.,  5.],\n",
       "       [ 5., 10.,  8.]])"
      ]
     },
     "execution_count": 146,
     "metadata": {},
     "output_type": "execute_result"
    }
   ],
   "source": [
    "a+(np.arange(2).reshape(2,1))"
   ]
  },
  {
   "cell_type": "code",
   "execution_count": 147,
   "metadata": {},
   "outputs": [],
   "source": [
    "b = np.round(10*np.random.rand(2,2))"
   ]
  },
  {
   "cell_type": "code",
   "execution_count": 148,
   "metadata": {},
   "outputs": [
    {
     "data": {
      "text/plain": [
       "array([[9., 6., 5.],\n",
       "       [4., 9., 7.]])"
      ]
     },
     "execution_count": 148,
     "metadata": {},
     "output_type": "execute_result"
    }
   ],
   "source": [
    "a"
   ]
  },
  {
   "cell_type": "code",
   "execution_count": 149,
   "metadata": {},
   "outputs": [
    {
     "data": {
      "text/plain": [
       "array([[ 1., 10.],\n",
       "       [ 5.,  6.]])"
      ]
     },
     "execution_count": 149,
     "metadata": {},
     "output_type": "execute_result"
    }
   ],
   "source": [
    "b"
   ]
  },
  {
   "cell_type": "code",
   "execution_count": 150,
   "metadata": {},
   "outputs": [],
   "source": [
    "c = np.hstack((a,b))"
   ]
  },
  {
   "cell_type": "code",
   "execution_count": 151,
   "metadata": {},
   "outputs": [
    {
     "data": {
      "text/plain": [
       "array([[ 9.,  6.,  5.,  1., 10.],\n",
       "       [ 4.,  9.,  7.,  5.,  6.]])"
      ]
     },
     "execution_count": 151,
     "metadata": {},
     "output_type": "execute_result"
    }
   ],
   "source": [
    "c"
   ]
  },
  {
   "cell_type": "code",
   "execution_count": 152,
   "metadata": {},
   "outputs": [],
   "source": [
    "a = np.random.permutation(np.arange(10))"
   ]
  },
  {
   "cell_type": "code",
   "execution_count": 154,
   "metadata": {},
   "outputs": [
    {
     "data": {
      "text/plain": [
       "array([2, 0, 5, 8, 7, 1, 4, 3, 9, 6])"
      ]
     },
     "execution_count": 154,
     "metadata": {},
     "output_type": "execute_result"
    }
   ],
   "source": [
    "a"
   ]
  },
  {
   "cell_type": "code",
   "execution_count": 155,
   "metadata": {},
   "outputs": [],
   "source": [
    "a.sort()"
   ]
  },
  {
   "cell_type": "code",
   "execution_count": 156,
   "metadata": {},
   "outputs": [
    {
     "data": {
      "text/plain": [
       "array([0, 1, 2, 3, 4, 5, 6, 7, 8, 9])"
      ]
     },
     "execution_count": 156,
     "metadata": {},
     "output_type": "execute_result"
    }
   ],
   "source": [
    "a"
   ]
  },
  {
   "cell_type": "code",
   "execution_count": 157,
   "metadata": {},
   "outputs": [
    {
     "data": {
      "text/plain": [
       "array([0, 1, 2, 3, 4, 5, 6, 7, 8, 9])"
      ]
     },
     "execution_count": 157,
     "metadata": {},
     "output_type": "execute_result"
    }
   ],
   "source": [
    "np.sort(a)"
   ]
  },
  {
   "cell_type": "code",
   "execution_count": 158,
   "metadata": {},
   "outputs": [],
   "source": [
    "a.sort()"
   ]
  },
  {
   "cell_type": "code",
   "execution_count": 159,
   "metadata": {},
   "outputs": [
    {
     "data": {
      "text/plain": [
       "array([0, 1, 2, 3, 4, 5, 6, 7, 8, 9])"
      ]
     },
     "execution_count": 159,
     "metadata": {},
     "output_type": "execute_result"
    }
   ],
   "source": [
    "a"
   ]
  },
  {
   "cell_type": "code",
   "execution_count": 160,
   "metadata": {},
   "outputs": [],
   "source": [
    "a = a[::-1]"
   ]
  },
  {
   "cell_type": "code",
   "execution_count": 161,
   "metadata": {},
   "outputs": [
    {
     "data": {
      "text/plain": [
       "array([9, 8, 7, 6, 5, 4, 3, 2, 1, 0])"
      ]
     },
     "execution_count": 161,
     "metadata": {},
     "output_type": "execute_result"
    }
   ],
   "source": [
    "a"
   ]
  },
  {
   "cell_type": "code",
   "execution_count": 162,
   "metadata": {},
   "outputs": [],
   "source": [
    "a = np.array([\"abc\",'howare you','u765','13er'])"
   ]
  },
  {
   "cell_type": "code",
   "execution_count": 163,
   "metadata": {},
   "outputs": [],
   "source": [
    "a.sort() #sort the strings in alphabetical order"
   ]
  },
  {
   "cell_type": "code",
   "execution_count": 164,
   "metadata": {},
   "outputs": [
    {
     "data": {
      "text/plain": [
       "array(['13er', 'abc', 'howare you', 'u765'], dtype='<U10')"
      ]
     },
     "execution_count": 164,
     "metadata": {},
     "output_type": "execute_result"
    }
   ],
   "source": [
    "a"
   ]
  },
  {
   "cell_type": "markdown",
   "metadata": {},
   "source": [
    "# Seed: ufuncs"
   ]
  },
  {
   "cell_type": "markdown",
   "metadata": {},
   "source": [
    "Universal functions makes Numpy faster. Use it while working with large arrays"
   ]
  },
  {
   "cell_type": "code",
   "execution_count": 167,
   "metadata": {},
   "outputs": [
    {
     "name": "stdout",
     "output_type": "stream",
     "text": [
      "182 ms ± 8.53 ms per loop (mean ± std. dev. of 7 runs, 10 loops each)\n",
      "1.21 ms ± 70.9 µs per loop (mean ± std. dev. of 7 runs, 1000 loops each)\n"
     ]
    }
   ],
   "source": [
    "b = np.random.rand(1000000)\n",
    "%timeit sum(b)\n",
    "%timeit np.sum(b) #b.sum()"
   ]
  },
  {
   "cell_type": "code",
   "execution_count": 173,
   "metadata": {},
   "outputs": [],
   "source": [
    "def mySum(G):\n",
    "    s = 0\n",
    "    for x in G:\n",
    "        s+=x\n",
    "    return s"
   ]
  },
  {
   "cell_type": "code",
   "execution_count": 174,
   "metadata": {},
   "outputs": [
    {
     "name": "stdout",
     "output_type": "stream",
     "text": [
      "237 ms ± 17.2 ms per loop (mean ± std. dev. of 7 runs, 1 loop each)\n"
     ]
    }
   ],
   "source": [
    "%timeit mySum(b)"
   ]
  },
  {
   "cell_type": "code",
   "execution_count": null,
   "metadata": {},
   "outputs": [],
   "source": []
  }
 ],
 "metadata": {
  "kernelspec": {
   "display_name": "Python 3",
   "language": "python",
   "name": "python3"
  },
  "language_info": {
   "codemirror_mode": {
    "name": "ipython",
    "version": 3
   },
   "file_extension": ".py",
   "mimetype": "text/x-python",
   "name": "python",
   "nbconvert_exporter": "python",
   "pygments_lexer": "ipython3",
   "version": "3.7.4"
  }
 },
 "nbformat": 4,
 "nbformat_minor": 2
}
